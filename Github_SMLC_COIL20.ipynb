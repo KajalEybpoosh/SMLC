{
 "cells": [
  {
   "cell_type": "code",
   "execution_count": 60,
   "metadata": {},
   "outputs": [],
   "source": [
    "from sklearn import datasets\n",
    "import pandas as pd\n",
    "import numpy as np\n",
    "import matplotlib.pyplot as plt \n",
    "from scipy.spatial import distance \n",
    "import math\n",
    "from scipy.sparse import csr_matrix \n",
    "from sklearn.cluster import KMeans \n",
    "from sklearn.metrics import pairwise_distances \n",
    "import scipy.io as spio"
   ]
  },
  {
   "cell_type": "code",
   "execution_count": 61,
   "metadata": {},
   "outputs": [
    {
     "data": {
      "text/plain": [
       "((1440, 1024), (1440,))"
      ]
     },
     "execution_count": 61,
     "metadata": {},
     "output_type": "execute_result"
    }
   ],
   "source": [
    "#Data from http://www.cad.zju.edu.cn/home/dengcai/Data/MLData.html\n",
    "data = spio.loadmat('COIL20.mat')\n",
    "X = data['X']\n",
    "Y = data['Y']\n",
    "y=np.zeros((1440))\n",
    "for k in range(1,21):\n",
    "    for i in range(1440):\n",
    "        if Y[i]==[k]:\n",
    "            y[i]=k\n",
    "X.shape, y.shape "
   ]
  },
  {
   "cell_type": "code",
   "execution_count": 62,
   "metadata": {},
   "outputs": [
    {
     "data": {
      "text/plain": [
       "(1, 1024)"
      ]
     },
     "execution_count": 62,
     "metadata": {},
     "output_type": "execute_result"
    }
   ],
   "source": [
    "#centroid\n",
    "a=np.zeros(X.shape[1])\n",
    "for i in range(0,X.shape[1]):\n",
    "    a[i]=np.dot(X.T[i],np.ones(X.shape[0]))/X.shape[0]\n",
    "a=np.matrix(a)\n",
    "a.shape"
   ]
  },
  {
   "cell_type": "code",
   "execution_count": 63,
   "metadata": {},
   "outputs": [
    {
     "data": {
      "text/plain": [
       "11.620077689156282"
      ]
     },
     "execution_count": 63,
     "metadata": {},
     "output_type": "execute_result"
    }
   ],
   "source": [
    "#radius\n",
    "dists = distance.cdist(X, a, 'euclidean')\n",
    "R=np.max(dists)\n",
    "R"
   ]
  },
  {
   "cell_type": "code",
   "execution_count": 64,
   "metadata": {},
   "outputs": [
    {
     "data": {
      "text/plain": [
       "(1440, 1025)"
      ]
     },
     "execution_count": 64,
     "metadata": {},
     "output_type": "execute_result"
    }
   ],
   "source": [
    "#Inverse Stereographic Projection\n",
    "Xf=np.zeros((X.shape[0],X.shape[1]))\n",
    "Xe=np.zeros((X.shape[0]))\n",
    "for i in range(0,X.shape[0]):\n",
    "    Xe[i]=R*((np.dot(X[i]**2,np.ones(X.shape[1]))-math.pow(R,2))/((np.dot(X[i]**2,np.ones(X.shape[1])))+math.pow(R,2)))\n",
    "    Xf[i]=R*(2*R/((np.dot(X[i]**2,np.ones(X.shape[1])))+math.pow(R,2))*X[i])\n",
    "    \n",
    "X=np.column_stack((Xf, Xe)) \n",
    "X.shape"
   ]
  },
  {
   "cell_type": "code",
   "execution_count": 65,
   "metadata": {},
   "outputs": [
    {
     "data": {
      "text/plain": [
       "(1440, 1440)"
      ]
     },
     "execution_count": 65,
     "metadata": {},
     "output_type": "execute_result"
    }
   ],
   "source": [
    "#Distance matrix\n",
    "A=np.dot(X,X.T)/(R**2)\n",
    "for i in range(0,X.shape[0]):\n",
    "        A[i][i]=int(1)\n",
    "A=R*np.arccos(A)\n",
    "A.shape"
   ]
  },
  {
   "cell_type": "code",
   "execution_count": 66,
   "metadata": {},
   "outputs": [],
   "source": [
    "# get indices and sorted distances\n",
    "k=10\n",
    "DNN, NN = np.sort(A), np.argsort(A)\n",
    "NN = NN[:,1:k+1]\n",
    "DNN = DNN[:,1:k+1]"
   ]
  },
  {
   "cell_type": "code",
   "execution_count": 67,
   "metadata": {},
   "outputs": [],
   "source": [
    "#Similarity Matrix\n",
    "W=csr_matrix((X.shape[0], X.shape[0])).toarray()\n",
    "for i in range(W.shape[0]):\n",
    "    for j in range(W.shape[0]):\n",
    "        if (j in NN[i]) :\n",
    "            W[i,j] = np.exp(-(A[i,j]**2)/1000000)\n",
    "        else:\n",
    "            W[i][j]=0\n",
    "W=(W+W.T)/2"
   ]
  },
  {
   "cell_type": "code",
   "execution_count": 68,
   "metadata": {},
   "outputs": [
    {
     "name": "stdout",
     "output_type": "stream",
     "text": [
      "degree matrix:\n",
      "[[10.99993176  0.          0.         ...  0.          0.\n",
      "   0.        ]\n",
      " [ 0.         10.4999365   0.         ...  0.          0.\n",
      "   0.        ]\n",
      " [ 0.          0.         10.49993261 ...  0.          0.\n",
      "   0.        ]\n",
      " ...\n",
      " [ 0.          0.          0.         ...  9.499908    0.\n",
      "   0.        ]\n",
      " [ 0.          0.          0.         ...  0.          8.49991873\n",
      "   0.        ]\n",
      " [ 0.          0.          0.         ...  0.          0.\n",
      "   9.99990773]]\n",
      "laplacian matrix:\n",
      "[[10.99993176 -0.99999928 -0.99999691 ...  0.          0.\n",
      "   0.        ]\n",
      " [-0.99999928 10.4999365  -0.99999865 ...  0.          0.\n",
      "   0.        ]\n",
      " [-0.99999691 -0.99999865 10.49993261 ...  0.          0.\n",
      "   0.        ]\n",
      " ...\n",
      " [ 0.          0.          0.         ...  9.499908   -0.99999566\n",
      "  -0.99999206]\n",
      " [ 0.          0.          0.         ... -0.99999566  8.49991873\n",
      "  -0.99999413]\n",
      " [ 0.          0.          0.         ... -0.99999206 -0.99999413\n",
      "   9.99990773]]\n"
     ]
    }
   ],
   "source": [
    "# degree matrix\n",
    "D = np.diag(np.sum(np.array(W), axis=1))\n",
    "print('degree matrix:')\n",
    "print(D)\n",
    "# laplacian matrix\n",
    "L = D - W\n",
    "print('laplacian matrix:')\n",
    "print(L)"
   ]
  },
  {
   "cell_type": "code",
   "execution_count": 69,
   "metadata": {},
   "outputs": [],
   "source": [
    "# eigenvalues\n",
    "e, v = np.linalg.eig(L)\n",
    "idx=np.argsort(e)\n",
    "e=e[idx]\n",
    "#v=v[:,idx[1:2]]"
   ]
  },
  {
   "cell_type": "code",
   "execution_count": 70,
   "metadata": {},
   "outputs": [
    {
     "data": {
      "text/plain": [
       "<matplotlib.legend.Legend at 0x7f87a96fc3a0>"
      ]
     },
     "execution_count": 70,
     "metadata": {},
     "output_type": "execute_result"
    },
    {
     "data": {
      "image/png": "[encoded data removed]",
      "text/plain": [
       "<Figure size 720x432 with 1 Axes>"
      ]
     },
     "metadata": {
      "needs_background": "light"
     },
     "output_type": "display_data"
    }
   ],
   "source": [
    "#The 20 smallest eigenvalues of the SLMC Laplacian matrice \n",
    "fig = plt.figure(figsize=[10, 6])\n",
    "ax1 = plt.subplot(222)\n",
    "plt.plot(e.real[0:20],color='green',linestyle='dashed', label='SMLC')\n",
    "ax1.title.set_text('eigenvalues')\n",
    "plt.legend()"
   ]
  },
  {
   "cell_type": "code",
   "execution_count": 71,
   "metadata": {},
   "outputs": [
    {
     "data": {
      "text/plain": [
       "KMeans(n_clusters=20)"
      ]
     },
     "execution_count": 71,
     "metadata": {},
     "output_type": "execute_result"
    }
   ],
   "source": [
    "#clustering\n",
    "U = np.array(v.real[:,idx[0:20]])\n",
    "km = KMeans(init='k-means++', n_clusters=20)\n",
    "km.fit(U)"
   ]
  },
  {
   "cell_type": "code",
   "execution_count": 72,
   "metadata": {},
   "outputs": [
    {
     "data": {
      "text/plain": [
       "0.8808686981357986"
      ]
     },
     "execution_count": 72,
     "metadata": {},
     "output_type": "execute_result"
    }
   ],
   "source": [
    "# NMI value\n",
    "from sklearn.metrics.cluster import normalized_mutual_info_score\n",
    "normalized_mutual_info_score(y,km.labels_,average_method='arithmetic')"
   ]
  }
 ],
 "metadata": {
  "kernelspec": {
   "display_name": "Python 3",
   "language": "python",
   "name": "python3"
  },
  "language_info": {
   "codemirror_mode": {
    "name": "ipython",
    "version": 3
   },
   "file_extension": ".py",
   "mimetype": "text/x-python",
   "name": "python",
   "nbconvert_exporter": "python",
   "pygments_lexer": "ipython3",
   "version": "3.8.3"
  }
 },
 "nbformat": 4,
 "nbformat_minor": 2
}
