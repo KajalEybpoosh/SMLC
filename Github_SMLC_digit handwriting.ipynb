{
 "cells": [
  {
   "cell_type": "code",
   "execution_count": 1,
   "metadata": {},
   "outputs": [],
   "source": [
    "from sklearn import datasets\n",
    "import pandas as pd\n",
    "import numpy as np\n",
    "import matplotlib.pyplot as plt\n",
    "from sklearn.datasets import load_digits\n",
    "import numpy as np \n",
    "from scipy.spatial import distance \n",
    "import math\n",
    "from scipy.sparse import csr_matrix \n",
    "from sklearn.cluster import SpectralClustering, KMeans \n",
    "from sklearn.metrics import pairwise_distances "
   ]
  },
  {
   "cell_type": "code",
   "execution_count": 2,
   "metadata": {},
   "outputs": [
    {
     "data": {
      "text/plain": [
       "((1797, 64), (1797,))"
      ]
     },
     "execution_count": 2,
     "metadata": {},
     "output_type": "execute_result"
    }
   ],
   "source": [
    "#Data\n",
    "digits = load_digits()\n",
    "X=digits.data\n",
    "y=digits.target\n",
    "X.shape, y.shape"
   ]
  },
  {
   "cell_type": "code",
   "execution_count": 10,
   "metadata": {},
   "outputs": [
    {
     "data": {
      "text/plain": [
       "<matplotlib.image.AxesImage at 0x52419b0>"
      ]
     },
     "execution_count": 10,
     "metadata": {},
     "output_type": "execute_result"
    },
    {
     "data": {
      "text/plain": [
       "<Figure size 432x288 with 0 Axes>"
      ]
     },
     "metadata": {},
     "output_type": "display_data"
    },
    {
     "data": {
      "image/png": "[encoded data removed]",
      "text/plain": [
       "<Figure size 288x288 with 1 Axes>"
      ]
     },
     "metadata": {},
     "output_type": "display_data"
    }
   ],
   "source": [
    "#Plot\n",
    "plt.gray() \n",
    "plt.matshow(digits.images[0])"
   ]
  },
  {
   "cell_type": "code",
   "execution_count": 11,
   "metadata": {},
   "outputs": [
    {
     "data": {
      "text/plain": [
       "(1, 64)"
      ]
     },
     "execution_count": 11,
     "metadata": {},
     "output_type": "execute_result"
    }
   ],
   "source": [
    "#centroid\n",
    "a=np.zeros(X.shape[1])\n",
    "for i in range(0,X.shape[1]):\n",
    "    a[i]=np.dot(X.T[i],np.ones(X.shape[0]))/X.shape[0]\n",
    "a=np.matrix(a)\n",
    "a.shape"
   ]
  },
  {
   "cell_type": "code",
   "execution_count": 12,
   "metadata": {},
   "outputs": [
    {
     "data": {
      "text/plain": [
       "48.015049978758185"
      ]
     },
     "execution_count": 12,
     "metadata": {},
     "output_type": "execute_result"
    }
   ],
   "source": [
    "#radius\n",
    "dists = distance.cdist(X, a, 'euclidean')\n",
    "R=np.max(dists)\n",
    "R"
   ]
  },
  {
   "cell_type": "code",
   "execution_count": 13,
   "metadata": {},
   "outputs": [
    {
     "data": {
      "text/plain": [
       "(1797, 65)"
      ]
     },
     "execution_count": 13,
     "metadata": {},
     "output_type": "execute_result"
    }
   ],
   "source": [
    "# Inverse Stereographic Projection\n",
    "Xf=np.zeros((X.shape[0],X.shape[1]))\n",
    "Xe=np.zeros((X.shape[0]))\n",
    "for i in range(0,X.shape[0]):\n",
    "    Xe[i]=R*((np.dot(X[i]**2,np.ones(X.shape[1]))-math.pow(R,2))/((np.dot(X[i]**2,np.ones(X.shape[1])))+math.pow(R,2)))\n",
    "    Xf[i]=R*(2*R/((np.dot(X[i]**2,np.ones(X.shape[1])))+math.pow(R,2))*X[i])\n",
    "    \n",
    "X=np.column_stack((Xf, Xe)) \n",
    "X.shape"
   ]
  },
  {
   "cell_type": "code",
   "execution_count": 14,
   "metadata": {},
   "outputs": [
    {
     "data": {
      "text/plain": [
       "(1797, 1797)"
      ]
     },
     "execution_count": 14,
     "metadata": {},
     "output_type": "execute_result"
    }
   ],
   "source": [
    "#Distance matrix\n",
    "A=np.dot(X,X.T)/(R**2)\n",
    "for i in range(0,X.shape[0]):\n",
    "        A[i][i]=int(1)\n",
    "A=R*np.arccos(A)\n",
    "A.shape"
   ]
  },
  {
   "cell_type": "code",
   "execution_count": 16,
   "metadata": {},
   "outputs": [
    {
     "data": {
      "text/plain": [
       "array([  97, 1244, 1777,   64,   24], dtype=int64)"
      ]
     },
     "execution_count": 16,
     "metadata": {},
     "output_type": "execute_result"
    }
   ],
   "source": [
    "# get indices and sorted distances\n",
    "k=5\n",
    "DNN, NN = np.sort(A), np.argsort(A)\n",
    "NN = NN[:,1:k+1]\n",
    "DNN = DNN[:,1:k+1]\n",
    "NN[100]"
   ]
  },
  {
   "cell_type": "code",
   "execution_count": 17,
   "metadata": {},
   "outputs": [],
   "source": [
    "#Similarity Matrix\n",
    "W=csr_matrix((X.shape[0], X.shape[0])).toarray()\n",
    "for i in range(W.shape[0]):\n",
    "    for j in range(W.shape[0]):\n",
    "        if (j in NN[i]) :\n",
    "            W[i,j] = np.exp(-(A[i,j]**2)/1000000)\n",
    "        else:\n",
    "            W[i][j]=0\n",
    "W=(W+W.T)/2"
   ]
  },
  {
   "cell_type": "code",
   "execution_count": 18,
   "metadata": {},
   "outputs": [
    {
     "name": "stdout",
     "output_type": "stream",
     "text": [
      "degree matrix:\n",
      "[[5.49922844 0.         0.         ... 0.         0.         0.        ]\n",
      " [0.         2.99948539 0.         ... 0.         0.         0.        ]\n",
      " [0.         0.         6.49762494 ... 0.         0.         0.        ]\n",
      " ...\n",
      " [0.         0.         0.         ... 3.99919277 0.         0.        ]\n",
      " [0.         0.         0.         ... 0.         4.49882114 0.        ]\n",
      " [0.         0.         0.         ... 0.         0.         3.49913442]]\n",
      "laplacian matrix:\n",
      "[[5.49922844 0.         0.         ... 0.         0.         0.        ]\n",
      " [0.         2.99948539 0.         ... 0.         0.         0.        ]\n",
      " [0.         0.         6.49762494 ... 0.         0.         0.        ]\n",
      " ...\n",
      " [0.         0.         0.         ... 3.99919277 0.         0.        ]\n",
      " [0.         0.         0.         ... 0.         4.49882114 0.        ]\n",
      " [0.         0.         0.         ... 0.         0.         3.49913442]]\n"
     ]
    }
   ],
   "source": [
    "# degree matrix\n",
    "D = np.diag(np.sum(np.array(W), axis=1))\n",
    "print('degree matrix:')\n",
    "print(D)\n",
    "# laplacian matrix\n",
    "L = D - W\n",
    "print('laplacian matrix:')\n",
    "print(L)"
   ]
  },
  {
   "cell_type": "code",
   "execution_count": 19,
   "metadata": {},
   "outputs": [],
   "source": [
    "# eigenvalues\n",
    "e, v = np.linalg.eig(L)\n",
    "idx=np.argsort(e)\n",
    "e=e[idx]"
   ]
  },
  {
   "cell_type": "code",
   "execution_count": 21,
   "metadata": {},
   "outputs": [
    {
     "data": {
      "text/plain": [
       "<matplotlib.legend.Legend at 0x53ae978>"
      ]
     },
     "execution_count": 21,
     "metadata": {},
     "output_type": "execute_result"
    },
    {
     "data": {
      "image/png": "[encoded data removed]",
      "text/plain": [
       "<Figure size 720x432 with 1 Axes>"
      ]
     },
     "metadata": {},
     "output_type": "display_data"
    }
   ],
   "source": [
    "#The 10 smallest eigenvalues of the SLMC Laplacian matrice \n",
    "fig = plt.figure(figsize=[10, 6])\n",
    "ax1 = plt.subplot(222)\n",
    "plt.plot(e.real[0:10],color='green',linestyle='dashed', label='SMLC')\n",
    "ax1.title.set_text('eigenvalues')\n",
    "plt.legend()"
   ]
  },
  {
   "cell_type": "code",
   "execution_count": 22,
   "metadata": {},
   "outputs": [
    {
     "data": {
      "text/plain": [
       "KMeans(algorithm='auto', copy_x=True, init='k-means++', max_iter=300,\n",
       "    n_clusters=10, n_init=10, n_jobs=None, precompute_distances='auto',\n",
       "    random_state=None, tol=0.0001, verbose=0)"
      ]
     },
     "execution_count": 22,
     "metadata": {},
     "output_type": "execute_result"
    }
   ],
   "source": [
    "# clustering\n",
    "U = np.array(v.real[:,idx[0:10]])\n",
    "km = KMeans(init='k-means++', n_clusters=10)\n",
    "km.fit(U)"
   ]
  },
  {
   "cell_type": "code",
   "execution_count": 23,
   "metadata": {},
   "outputs": [
    {
     "data": {
      "text/plain": [
       "0.9126848283450416"
      ]
     },
     "execution_count": 23,
     "metadata": {},
     "output_type": "execute_result"
    }
   ],
   "source": [
    "# NMI value\n",
    "from sklearn.metrics.cluster import normalized_mutual_info_score\n",
    "normalized_mutual_info_score(y,km.labels_,average_method='arithmetic')"
   ]
  }
 ],
 "metadata": {
  "kernelspec": {
   "display_name": "Python 3",
   "language": "python",
   "name": "python3"
  },
  "language_info": {
   "codemirror_mode": {
    "name": "ipython",
    "version": 3
   },
   "file_extension": ".py",
   "mimetype": "text/x-python",
   "name": "python",
   "nbconvert_exporter": "python",
   "pygments_lexer": "ipython3",
   "version": "3.8.3"
  }
 },
 "nbformat": 4,
 "nbformat_minor": 2
}
